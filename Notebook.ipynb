{
 "cells": [
  {
   "cell_type": "markdown",
   "id": "5bb17918",
   "metadata": {},
   "source": [
    "#  Étude des données de la Banque mondiale pour identifier des opportunités d'expansion pour l'EdTech"
   ]
  },
  {
   "cell_type": "markdown",
   "id": "149f789e",
   "metadata": {},
   "source": [
    "# Sommaire\n"
   ]
  },
  {
   "cell_type": "markdown",
   "id": "81b856f7",
   "metadata": {},
   "source": [
    "Ce rapport présente une étude préliminaire des données de la Banque mondiale pour identifier des opportunités d'expansion pour l'EdTech. L'objectif de cette étude est de déterminer les pays avec un fort potentiel de clients pour les services d'EdTech et d'analyser l'évolution de ce potentiel pour chacun de ces pays. Pour atteindre cet objectif, nous avons effectué une pré-analyse des données pour valider leur qualité, décrire les informations contenues et sélectionner les indicateurs pertinents. Nous avons ensuite réalisé une analyse exploratoire pour déterminer les ordres de grandeur des indicateurs statistiques classiques pour les pays du monde. Cette analyse a permis d'identifier les pays qui présentent des opportunités pour l'expansion de l'EdTech."
   ]
  },
  {
   "cell_type": "markdown",
   "id": "d3c4c3ea",
   "metadata": {},
   "source": [
    "## Table des Matières\n",
    "*  [Préambule](#sec:Preambule)\n",
    "*  [Pré-analyse des jeux de données](#sec:PreanalyseDesJeuxDeDonnees)\n",
    "    * [EdStats Data](#subsec:EdStatsData)\n",
    "    * [EdStats Country](#subsec:EdStatsCountry)\n",
    "    * [EdStats Foot Note](#subsec:EdStatsFootNote)\n",
    "    * [EdStats Country Series](#subsec:EdStatsCountrySeries)\n",
    "    * [EdStats Series](#subsec:EdStatsSeries)\n",
    "* [Jeux de données utilisés pour l'étude](#sec:JeuxDeDonneesUtilisesPourLetude)\n",
    "    * [Suppression des groupes de catégories et de régions du jeu de données](#subsec:Suppressiondesgroupesdecategoriesetderegionsdujeudedonnees)\n",
    "    * [Visualisation du PIB sur la carte du monde](#subsec:VisualisationduPIBsurlacartedumonde)\n",
    "    * [Nettoyage des données en fonction de la population des pays](#subsec:Nettoyagedesdonneesenfonctiondelapopulationdespays)\n",
    "    * [Nettoyage des données en fonction de la valeur du PIB des pays](#subsec:NettoyagedesdonneesenfonctiondelavaleurduPIBdespays)\n",
    "    * [Nettoyage des données en fonction des utilisateurs d'Internet pour 100 personnes pour chaque pays](#subsec:NettoyagedesdonneesenfonctiondesutilisateursdInternetpour100personnespourchaquepays)\n",
    "    * [Analyse des données avec plusieurs noms d'indicateurs considérés](#subsec:Analysedesdonneesavecplusieursnomsdindicateursconsideres)\n",
    "* [Analyse pour répondre à la problématique](#sec:AnalysePourRepondreaLaProblematique)\n",
    "* [Conclusion et perspectives](#sec:ConclusionEtPerspectives)"
   ]
  },
  {
   "cell_type": "markdown",
   "id": "a30b5167",
   "metadata": {},
   "source": [
    "Avant d'entrer dans le vif du sujet, il est important de rappeler l'objectif de cette étude et de présenter les jeux de données utilisés. Ainsi, cette première section permettra de comprendre le contexte de l'étude et de situer les enjeux."
   ]
  },
  {
   "cell_type": "markdown",
   "id": "85c3cd8c",
   "metadata": {},
   "source": [
    "<a id='sec:Preambule'></a>\n",
    "# Préambule "
   ]
  },
  {
   "cell_type": "markdown",
   "id": "b4c41197",
   "metadata": {},
   "source": [
    "L'expansion de l'EdTech est un enjeu majeur pour l'entreprise. Pour identifier les pays où l'EdTech peut s'étendre à ces régions, nous avons utilisé les données de la Banque mondiale. Ces données contiennent des informations sur l'accès à l'éducation, l'obtention de diplômes, les dépenses liées à l'éducation, etc. Nous avons supposé que ces indicateurs pourraient être utilisés pour identifier les pays avec un fort potentiel de clients pour les services d'EdTech."
   ]
  },
  {
   "cell_type": "code",
   "execution_count": null,
   "id": "c0b194cf",
   "metadata": {},
   "outputs": [],
   "source": [
    "import pandas as pd\n",
    "import numpy as np\n",
    "import seaborn as sns\n",
    "import matplotlib.pyplot as plt\n",
    "import missingno as msno\n",
    "import importlib.metadata\n",
    "import difflib"
   ]
  },
  {
   "cell_type": "code",
   "execution_count": null,
   "id": "e6fc401c",
   "metadata": {},
   "outputs": [],
   "source": [
    "import plotly.express as px\n",
    "import plotly.figure_factory as ff\n",
    "from plotly import __version__\n",
    "from plotly.offline import download_plotlyjs, init_notebook_mode, plot, iplot\n",
    "import chart_studio.plotly as py\n",
    "import cufflinks as cf \n",
    "import plotly.graph_objects as go\n",
    "from plotly.subplots import make_subplots\n",
    "\n",
    "# For Notebooks\n",
    "init_notebook_mode(connected=True)\n",
    "# For offline use\n",
    "cf.go_offline()\n",
    "%matplotlib inline"
   ]
  },
  {
   "cell_type": "markdown",
   "id": "64211a93",
   "metadata": {},
   "source": [
    "Le module **_numpy_** est une bibliothèque Python qui fournit des outils pour travailler avec des tableaux multidimensionnels et des matrices. Il offre des fonctions pour effectuer des opérations mathématiques avancées sur les données, telles que les statistiques, les fonctions trigonométriques et algébriques, et la manipulation de données. Nous utiliserons ce module pour effectuer des calculs mathématiques sur les données de la Banque mondiale.\n",
    "\n",
    "Le module **_pandas_** est un outil de manipulation de données très puissant en Python. Il permet de lire des données structurées depuis des fichiers CSV, Excel ou SQL, et de les manipuler pour effectuer des analyses exploratoires et des calculs statistiques. Dans ce projet, nous utiliserons ce module pour charger les données de la Banque mondiale et les mettre en forme pour pouvoir les analyser.\n",
    "\n",
    "Le module **_matplotlib_** est un outil de visualisation de données en Python. Il permet de créer des graphiques et des diagrammes à partir des données pour faciliter la compréhension et la communication des résultats. Nous utiliserons ce module pour créer des graphiques pour illustrer nos analyses.\n",
    "\n",
    "Le module **_seaborn_** est une bibliothèque de visualisation de données basée sur matplotlib. Il permet de créer des graphiques esthétiques et informatifs avec un code plus simple et moins de paramètres que matplotlib. Nous utiliserons ce module pour créer des graphiques pour illustrer nos analyses.\n",
    "\n",
    "**_Plotly_** est une bibliothèque de visualisation de données interactive et open-source. Elle permet de créer des graphiques interactifs pour des analyses exploratoires et des présentations visuelles. Elle offre également la possibilité de générer des graphiques en HTML pour une visualisation en ligne. Plotly est utilisé pour la création de graphiques en 2D et 3D, de cartes, de sous-plots et de visualisations animées.\n",
    "\n",
    "Le module **_missingno_** est une bibliothèque de visualisation de données pour les données manquantes. Il permet de visualiser les données manquantes dans un ensemble de données en utilisant des graphiques tels que les matrices de corrélation, les histogrammes, les cartes thermiques et les dendrogrammes. Nous utiliserons ce module pour identifier les données manquantes dans le jeu de données de la Banque mondiale et pour déterminer comment les traiter.\n",
    "\n"
   ]
  },
  {
   "cell_type": "markdown",
   "id": "07901b6e",
   "metadata": {},
   "source": [
    "Ce code affiche les versions de Python et des bibliothèques utilisées dans le projet, ainsi que la version de la bibliothèque Matplotlib, afin d'assurer la compatibilité et de s'assurer que le code fonctionnera correctement."
   ]
  },
  {
   "cell_type": "code",
   "execution_count": null,
   "id": "ae42a446",
   "metadata": {},
   "outputs": [],
   "source": [
    "!python --version\n",
    "\n",
    "# Version des librairies utilisées\n",
    "print('\\n'.join(f'{m.__name__} - {m.__version__}' \n",
    "                for m in globals().values() \n",
    "                if getattr(m, '__version__', None)))\n",
    "\n",
    "print(\"matplotlib - \", importlib.metadata.version('matplotlib'))"
   ]
  },
  {
   "cell_type": "markdown",
   "id": "0bda1cfc",
   "metadata": {},
   "source": [
    "<a id='sec:PreanalyseDesJeuxDeDonnees'></a>\n",
    "# Pré-analyse des jeux de données"
   ]
  },
  {
   "cell_type": "markdown",
   "id": "6dce4487",
   "metadata": {},
   "source": [
    "Nous avons commencé par valider la qualité du jeu de données de la Banque mondiale. Nous avons vérifié s'il comportait beaucoup de données manquantes, dupliquées, ou si les données étaient cohérentes entre elles. Nous avons également décrit les informations contenues dans le jeu de données, notamment le nombre de colonnes et le nombre de lignes."
   ]
  },
  {
   "cell_type": "markdown",
   "id": "27b0e370",
   "metadata": {},
   "source": [
    "<a id='subsec:EdStatsData'></a>\n",
    "## EdStats Data"
   ]
  },
  {
   "cell_type": "code",
   "execution_count": null,
   "id": "4154dc25",
   "metadata": {},
   "outputs": [],
   "source": [
    "df = pd.read_csv('EdStatsData.csv')"
   ]
  },
  {
   "cell_type": "code",
   "execution_count": null,
   "id": "1436714c",
   "metadata": {},
   "outputs": [],
   "source": [
    "display(df.head(5))"
   ]
  },
  {
   "cell_type": "code",
   "execution_count": null,
   "id": "9f44a57f",
   "metadata": {},
   "outputs": [],
   "source": [
    "#Avec la fonction 'info()', nous pouvons voir combien de données \n",
    "#non vides chaque colonne contient et quel type de données elle contient.\n",
    "df.info()"
   ]
  },
  {
   "cell_type": "markdown",
   "id": "3a2e2e30",
   "metadata": {},
   "source": [
    "Il s'agit d'un DataFrame pandas qui contient 70 colonnes et 886 930 lignes. Les colonnes représentent différentes informations, telles que le nom du pays, le code du pays, le nom de l'indicateur et le code de l'indicateur. Les colonnes de la 4ème à la 68ème représentent les années de 1970 à 2100, avec les valeurs de l'indicateur pour chaque année et chaque pays. Certaines années ont des valeurs manquantes car toutes les données ne sont pas disponibles pour toutes les années. La dernière colonne est inutile et peut être supprimée. Le DataFrame utilise 473,7 Mo de mémoire."
   ]
  },
  {
   "cell_type": "code",
   "execution_count": null,
   "id": "5ba04f15",
   "metadata": {},
   "outputs": [],
   "source": [
    "df.pop(df.columns[-1])\n",
    "#La commande \"df.pop(df.columns[-1])\" supprime la dernière colonne du dataframe \"df\".\n",
    "df.info()"
   ]
  },
  {
   "cell_type": "markdown",
   "id": "46dd0302",
   "metadata": {},
   "source": [
    "Les premières et troisièmes colonnes définissent le pays et l'indicateur, et les deuxième et quatrième colonnes conservent leurs abréviations. Les colonnes restantes ont répertorié les années dans une série séquentielle de 1970 à 2017 et il y a des colonnes de données tous les 5 ans de 2020 à 2100 après 2017."
   ]
  },
  {
   "cell_type": "markdown",
   "id": "c6fafa0b",
   "metadata": {},
   "source": [
    "Vous verrez maintenant les valeurs répétées sous le pays et l'indicator la colonne de données."
   ]
  },
  {
   "cell_type": "code",
   "execution_count": null,
   "id": "28b7ca7d",
   "metadata": {},
   "outputs": [],
   "source": [
    "df['Country Name'].nunique()"
   ]
  },
  {
   "cell_type": "code",
   "execution_count": null,
   "id": "28db62ca",
   "metadata": {},
   "outputs": [],
   "source": [
    "df['Country Name'].value_counts()"
   ]
  },
  {
   "cell_type": "code",
   "execution_count": null,
   "id": "0e7b2e09",
   "metadata": {},
   "outputs": [],
   "source": [
    "df['Indicator Name'].nunique()"
   ]
  },
  {
   "cell_type": "code",
   "execution_count": null,
   "id": "460dd7df",
   "metadata": {},
   "outputs": [],
   "source": [
    "df['Indicator Name'].value_counts()"
   ]
  },
  {
   "cell_type": "markdown",
   "id": "b066d824",
   "metadata": {},
   "source": [
    "Après ces commandes, on peut remarquer que :\n",
    "\n",
    "* La colonne 'Country Name' contient 242 noms de régions et de pays. Ces noms sont utilisés pour identifier les régions et les pays dans les données utilisées pour l'analyse. La liste est utilisée pour filtrer les données et ne conserver que celles qui sont pertinentes pour l'étude.\n",
    "* La colonne 'Indicator Name' contient 3665 noms d'indicateurs différents et que chaque indicateur a 242 entrées (correspondant à différentes années pour chaque pays)."
   ]
  },
  {
   "cell_type": "markdown",
   "id": "2e245592",
   "metadata": {},
   "source": [
    "Ce code calcule le nombre de données non nulles pour chaque colonne du dataframe df à partir de la 4ème colonne, qui sont les années. Ensuite, il trace un graphique à barres représentant la longueur des données non vides pour chaque année. Le titre du graphique est \"Longueur des données pour chaque colonne des années\"."
   ]
  },
  {
   "cell_type": "code",
   "execution_count": null,
   "id": "cd4b4a02",
   "metadata": {},
   "outputs": [],
   "source": [
    "notempty_values = np.zeros(len(df.columns))\n",
    "for i in range(len(df.columns)):\n",
    "    column = df.columns[i]\n",
    "    notempty_values[i] = df[column].notnull().sum()"
   ]
  },
  {
   "cell_type": "code",
   "execution_count": null,
   "id": "eb9843d4",
   "metadata": {},
   "outputs": [],
   "source": [
    "fig = px.bar(x=df.columns[4:], y =notempty_values[4:])\n",
    "fig.update_layout(\n",
    "    title=\"Longueur des données pour chaque colonne des années\",\n",
    "    xaxis_title=\"Années\",\n",
    "    yaxis_title=\"Longueur des données non vides\",\n",
    "    font=dict(\n",
    "        family=\"Courier New, monospace\",\n",
    "        size=18,\n",
    "        color=\"Black\"\n",
    "    )\n",
    ")\n",
    "\n",
    "fig.show()"
   ]
  },
  {
   "cell_type": "code",
   "execution_count": null,
   "id": "ae55f9f4",
   "metadata": {},
   "outputs": [],
   "source": [
    "x_valueManque = df.isnull().sum().sum()\n",
    "print(\"Le nombre total de valeurs manquantes dans le jeu de données df est de:\",x_valueManque)"
   ]
  },
  {
   "cell_type": "code",
   "execution_count": null,
   "id": "6efab16d",
   "metadata": {},
   "outputs": [],
   "source": [
    "# pd.set_option('display.max_rows', 70)\n",
    "# display(df.notnull().sum())\n",
    "df.columns[4:51]"
   ]
  },
  {
   "cell_type": "code",
   "execution_count": null,
   "id": "ec2ab113",
   "metadata": {},
   "outputs": [],
   "source": [
    "pd.set_option('display.max_colwidth', None)\n",
    "\n",
    "Table_Indi1 = pd.pivot_table(df, values=df.columns[4:51], index=['Indicator Name']\n",
    "               ,aggfunc=lambda x: len(x.dropna())/len(x)).sort_values(by='2010',ascending=False)[:20]"
   ]
  },
  {
   "cell_type": "markdown",
   "id": "c4b3823f",
   "metadata": {},
   "source": [
    "Ce code calcule la proportion de valeurs non-nulles pour chaque indicateur dans les années 1990 à 2016. Pour cela, il utilise la fonction pivot_table de pandas en prenant les valeurs de la 4ème colonne jusqu'à la 51ème colonne (les années 1990 à 2016), en indexant par le nom de l'indicateur, et en utilisant une fonction personnalisée pour le calcul de la proportion. Ensuite, il trie les résultats par ordre décroissant de la proportion de valeurs non-nulles en 2010 et sélectionne les 20 premiers indicateurs.\n",
    "\n",
    "En d'autres termes, ce code permet de déterminer les indicateurs les plus fiables en fonction du pourcentage de données manquantes sur une période de temps donnée."
   ]
  },
  {
   "cell_type": "code",
   "execution_count": null,
   "id": "7d0eed42",
   "metadata": {},
   "outputs": [],
   "source": [
    "sns.heatmap(Table_Indi1)"
   ]
  },
  {
   "cell_type": "markdown",
   "id": "0f27e6b5",
   "metadata": {},
   "source": [
    "La commande \"sns.heatmap(Table_Indi1)\" permet de créer une heatmap (carte de chaleur) en utilisant la bibliothèque Seaborn de Python. La heatmap affiche les 20 indicateurs les plus remplis dans la colonne \"2010\" du dataframe. Les valeurs sont normalisées et représentées par des couleurs allant du noir fonce pour les valeurs les plus faibles au rose clair pour les valeurs les plus élevées. Cette visualisation permet d'identifier rapidement les indicateurs les plus complets en termes de données pour une année donnée, ce qui peut être utile pour une analyse ultérieure."
   ]
  },
  {
   "cell_type": "code",
   "execution_count": null,
   "id": "43f7d408",
   "metadata": {},
   "outputs": [],
   "source": [
    "Table_Indi = pd.pivot_table(df, values=df.columns[4:], index=['Indicator Name'])"
   ]
  },
  {
   "cell_type": "markdown",
   "id": "48281507",
   "metadata": {},
   "source": [
    "Ce code définit une fonction appelée find_full_index qui prend en entrée un dataframe et une liste de noms de colonnes. La fonction renvoie l'index des lignes dans le dataframe qui ont des valeurs non-nulles pour au moins une des colonnes spécifiées.\n",
    "\n",
    "Ensuite, le code sélectionne un sous-ensemble de colonnes à partir de l'indice 48 jusqu'à la fin du dataframe Table_Indi et stocke les noms de ces colonnes dans la variable columns. En utilisant la fonction find_full_index avec ce sous-ensemble de colonnes, le code détermine quelles sont les lignes du dataframe qui ont des valeurs non-nulles pour ces colonnes. Les noms de ces lignes sont stockés dans la variable full_index.\n",
    "\n",
    "En fin de compte, cela peut être utile pour identifier les indicateurs pour lesquels il existe des données complètes pour les années sélectionnées."
   ]
  },
  {
   "cell_type": "code",
   "execution_count": null,
   "id": "b4112fb5",
   "metadata": {},
   "outputs": [],
   "source": [
    "def find_full_index(df, columns):\n",
    "    full_index = df[df[columns].notnull().any(axis=1)].index\n",
    "    return full_index\n",
    "\n",
    "columns = Table_Indi.columns[48:]\n",
    "print(columns)\n",
    "full_index = find_full_index(Table_Indi, columns)\n",
    "print(\"Full data for index:\", full_index)"
   ]
  },
  {
   "cell_type": "markdown",
   "id": "06eb14f0",
   "metadata": {},
   "source": [
    "Nous avons créé une fonction pour trouver les indices (indicateurs) ayant des données complètes pour les années futures. Les années sélectionnées sont 2020 à 2100. Il convient de noter que ces années sont des années futures et que les données présentées sont donc des projections. Cela explique pourquoi ces colonnes sont pour la plupart vides pour le reste des indicateurs, car ils ne concernent que les projections futures. La sortie de cette fonction nous donne l'indice des indicateurs qui ont des projections pour les années sélectionnées."
   ]
  },
  {
   "cell_type": "markdown",
   "id": "3dc7d236",
   "metadata": {},
   "source": [
    "Cette fonction prend en entrée une table de données et une liste de colonnes à rechercher.\n",
    "Elle renvoie les index de lignes où toutes les colonnes de la liste sont remplies pour l'année 2017."
   ]
  },
  {
   "cell_type": "code",
   "execution_count": null,
   "id": "022d66ad",
   "metadata": {},
   "outputs": [],
   "source": [
    "#Cette fonction prend en entrée une table de données et une liste de colonnes à rechercher.\n",
    "#Elle renvoie les index de lignes où toutes les colonnes de la liste sont remplies pour l'année 2017.\n",
    "find_full_index(Table_Indi,['2017'])\n"
   ]
  },
  {
   "cell_type": "code",
   "execution_count": null,
   "id": "8a076721",
   "metadata": {},
   "outputs": [],
   "source": [
    "Table_Pay1 = pd.pivot_table(df, values=df.columns[4:51], index=['Country Name'],\n",
    "                           aggfunc=lambda x: len(x.dropna())/len(x)).sort_values(by='2010', ascending=True)[:20]"
   ]
  },
  {
   "cell_type": "markdown",
   "id": "25d701bc",
   "metadata": {},
   "source": [
    "Cette fonction trace une heatmap en utilisant la table de données Table_Pay1 créée précédemment."
   ]
  },
  {
   "cell_type": "code",
   "execution_count": null,
   "id": "f7798dda",
   "metadata": {
    "scrolled": true
   },
   "outputs": [],
   "source": [
    "sns.heatmap(Table_Pay1)"
   ]
  },
  {
   "cell_type": "markdown",
   "id": "20746c8e",
   "metadata": {},
   "source": [
    "En examinant la heatmap, on remarque que les pays avec le moins de données sont des petits pays insulaires. Comme ces informations sont peu importantes pour l'extension de l'entreprise EdTech, nous pouvons supprimer ces groupes de noms de pays pour pouvoir traiter le reste des données plus efficacement."
   ]
  },
  {
   "cell_type": "code",
   "execution_count": null,
   "id": "c11b8708",
   "metadata": {},
   "outputs": [],
   "source": [
    "indicators = ['Population, ages 0-14, total', 'GDP, PPP (constant 2011 international $)',\\\n",
    "              'Internet users (per 100 people)','Population, total']\n",
    "\n",
    "df_filtered = df[df['Indicator Name'].isin(indicators)].set_index('Country Name')\\\n",
    "                    .loc[:,['Indicator Name'] + list(map(str, range(1990, 2017)))]\n",
    "\n",
    "df_filtered =df_filtered.reset_index()"
   ]
  },
  {
   "cell_type": "markdown",
   "id": "81064023",
   "metadata": {},
   "source": [
    "Ces codes filtrent les données du dataframe 'df' pour sélectionner les indicateurs pertinents pour notre projet EdTech axé sur l'éducation en ligne pour les jeunes étudiants de niveau collégial et secondaire. Les indicateurs sélectionnés sont 'Population, âges 0-14, total', 'PIB, PPA (dollars internationaux constants de 2011)' et 'Utilisateurs d'Internet (pour 100 personnes)'.\n",
    "\n",
    "En résumé, ces codes permettent de sélectionner les indicateurs pertinents pour notre projet, ainsi que les années correspondantes, pour une analyse ultérieure des données"
   ]
  },
  {
   "cell_type": "code",
   "execution_count": null,
   "id": "c90039dc",
   "metadata": {},
   "outputs": [],
   "source": [
    "msno.matrix(df_filtered)"
   ]
  },
  {
   "cell_type": "markdown",
   "id": "2f5b01a0",
   "metadata": {},
   "source": [
    "<a id='subsec:EdStatsCountry'></a>\n",
    "## EdStats Country\n"
   ]
  },
  {
   "cell_type": "markdown",
   "id": "4192930b",
   "metadata": {},
   "source": [
    "Après avoir analysé les données EdStats, nous nous tournons maintenant vers les informations de chaque pays. Le jeu de données EdStats Country contient des informations sur les différents pays comme la région, le groupe de revenus, la population, etc. Nous allons donc explorer ces informations pour avoir une vue d'ensemble sur les différents pays du monde."
   ]
  },
  {
   "cell_type": "markdown",
   "id": "b2789fda",
   "metadata": {},
   "source": [
    "Chargement des données des informations pays"
   ]
  },
  {
   "cell_type": "code",
   "execution_count": null,
   "id": "18b92b0a",
   "metadata": {},
   "outputs": [],
   "source": [
    "df_c = pd.read_csv('EdStatsCountry.csv')"
   ]
  },
  {
   "cell_type": "code",
   "execution_count": null,
   "id": "208a1d87",
   "metadata": {},
   "outputs": [],
   "source": [
    "display(df_c.head(10))"
   ]
  },
  {
   "cell_type": "markdown",
   "id": "d4d51e54",
   "metadata": {},
   "source": [
    "Ce jeu de données contient des informations sur les pays du monde, notamment leur code pays, leur nom, leur région, leur niveau de revenu, leur monnaie, ainsi que d'autres indicateurs socio-économiques tels que la population, les données sur les ménages et les données sur l'agriculture.\n",
    "\n"
   ]
  },
  {
   "cell_type": "code",
   "execution_count": null,
   "id": "9dae7b69",
   "metadata": {},
   "outputs": [],
   "source": [
    "df_c.info()"
   ]
  },
  {
   "cell_type": "markdown",
   "id": "d47c111b",
   "metadata": {},
   "source": [
    "* En regardant le DataFrame, on peut constater qu'il y a plusieurs colonnes qui ont des valeurs manquantes. Certaines colonnes n'ont que très peu de données disponibles, ce qui peut compliquer l'analyse. Par exemple, les colonnes \"National accounts reference year\", \"Other groups\", \"Alternative conversion factor\" et \"Vital registration complete\" ont très peu de données disponibles.\n",
    "\n",
    "* Cela dit, il est toujours possible d'obtenir des informations utiles à partir de ces données malgré leur manque de complétude. En examinant les colonnes qui ont des données disponibles, on pourrait peut-être identifier des indices intéressants. Par exemple, les colonnes \"Region\" et \"Income Group\" pourraient fournir des informations sur la répartition géographique et économique des pays. De même, les colonnes \"Latest population census\" et \"Latest household survey\" pourraient fournir des informations sur la taille de la population et les conditions socio-économiques dans les différents pays."
   ]
  },
  {
   "cell_type": "code",
   "execution_count": null,
   "id": "7081304a",
   "metadata": {},
   "outputs": [],
   "source": [
    "df_c = df_c.drop(df_c.columns[-1], axis=1)\n"
   ]
  },
  {
   "cell_type": "markdown",
   "id": "18d8736b",
   "metadata": {},
   "source": [
    "Nous commençons par visualiser les données manquantes à l'aide de la bibliothèque Missigno."
   ]
  },
  {
   "cell_type": "code",
   "execution_count": null,
   "id": "ba3953ab",
   "metadata": {},
   "outputs": [],
   "source": [
    "msno.matrix(df_c)\n"
   ]
  },
  {
   "cell_type": "markdown",
   "id": "8258cc24",
   "metadata": {},
   "source": [
    "La visualisation ci-dessus montre la répartition des valeurs manquantes dans les colonnes du jeu de données. Nous pouvons voir que les colonnes \"Other groups\", \"Alternative conversion factor\", \"Vital registration complete\", \"Latest industrial data\" et \"Latest household survey\" ont une forte proportion de valeurs manquantes."
   ]
  },
  {
   "cell_type": "code",
   "execution_count": null,
   "id": "3c4a53a7",
   "metadata": {},
   "outputs": [],
   "source": [
    "msno.bar(df_c)"
   ]
  },
  {
   "cell_type": "markdown",
   "id": "885119b4",
   "metadata": {},
   "source": [
    "Cela nous donnera un graphique à barres montrant le nombre de valeurs manquantes dans chaque colonne.\n",
    "\n",
    "Ensuite, nous pouvons supprimer les colonnes qui ont trop de valeurs manquantes pour être utiles :"
   ]
  },
  {
   "cell_type": "code",
   "execution_count": null,
   "id": "c4ef4b0a",
   "metadata": {},
   "outputs": [],
   "source": [
    "df_c.drop(['Special Notes', 'Other groups', 'Alternative conversion factor', 'Vital registration complete',\\\n",
    "           'National accounts reference year']\n",
    "          , axis=1, inplace=True)"
   ]
  },
  {
   "cell_type": "code",
   "execution_count": null,
   "id": "5053c64a",
   "metadata": {},
   "outputs": [],
   "source": [
    "msno.bar(df_c)"
   ]
  },
  {
   "cell_type": "markdown",
   "id": "1791b61a",
   "metadata": {},
   "source": [
    "<a id='subsec:EdStatsFootNote)'></a>\n",
    "## EdStats Foot Note"
   ]
  },
  {
   "cell_type": "code",
   "execution_count": null,
   "id": "dd25a37d",
   "metadata": {},
   "outputs": [],
   "source": [
    "df_f=pd.read_csv('EdStatsFootNote.csv')"
   ]
  },
  {
   "cell_type": "code",
   "execution_count": null,
   "id": "441d8413",
   "metadata": {},
   "outputs": [],
   "source": [
    "df_f = df_f.drop(columns=['Unnamed: 4'])\n"
   ]
  },
  {
   "cell_type": "code",
   "execution_count": null,
   "id": "4037582b",
   "metadata": {},
   "outputs": [],
   "source": [
    "display(df_f.head(5))"
   ]
  },
  {
   "cell_type": "code",
   "execution_count": null,
   "id": "2960d9b2",
   "metadata": {},
   "outputs": [],
   "source": [
    "df_f.info()"
   ]
  },
  {
   "cell_type": "code",
   "execution_count": null,
   "id": "85df2f3d",
   "metadata": {},
   "outputs": [],
   "source": [
    "display(df_f.head(60))"
   ]
  },
  {
   "cell_type": "markdown",
   "id": "6c7fd9b4",
   "metadata": {},
   "source": [
    "Cet ensemble de données contient des informations sur divers indicateurs économiques, sociaux et environnementaux pour les pays du monde entier. Chaque indicateur est mesuré sur plusieurs années et pour chaque pays, et les données sont collectées auprès de diverses sources telles que la Banque mondiale et les Nations unies. Les données peuvent être utilisées pour étudier les tendances et les variations des indicateurs à travers le temps et l'espace, ainsi que pour analyser les relations entre les différents indicateurs et leur impact sur le développement des pays."
   ]
  },
  {
   "cell_type": "markdown",
   "id": "e08311bc",
   "metadata": {},
   "source": [
    "<a id='subsec:EdStatsCountrySeries'></a>\n",
    "## EdStats Country Series"
   ]
  },
  {
   "cell_type": "code",
   "execution_count": null,
   "id": "844b5cae",
   "metadata": {},
   "outputs": [],
   "source": [
    "df_cs = pd.read_csv('EdStatsCountry-Series.csv')"
   ]
  },
  {
   "cell_type": "code",
   "execution_count": null,
   "id": "1e21e124",
   "metadata": {},
   "outputs": [],
   "source": [
    "df_cs.info()"
   ]
  },
  {
   "cell_type": "code",
   "execution_count": null,
   "id": "6dc61204",
   "metadata": {},
   "outputs": [],
   "source": [
    "df_cs.pop(df_cs.columns[-1])\n",
    "display(df_cs.head(60))"
   ]
  },
  {
   "cell_type": "markdown",
   "id": "7a5151b2",
   "metadata": {},
   "source": [
    "Les données semblent être liées aux estimations démographiques et économiques mondiales basées sur les données de diverses sources telles que les Nations Unies, l'Eurostat et d'autres organismes statistiques."
   ]
  },
  {
   "cell_type": "code",
   "execution_count": null,
   "id": "0825698f",
   "metadata": {},
   "outputs": [],
   "source": [
    "df_cs['CountryCode'].nunique()"
   ]
  },
  {
   "cell_type": "markdown",
   "id": "d2826746",
   "metadata": {},
   "source": [
    "<a id='subsec:EdStatsSeries'></a>\n",
    "## EdStats Series"
   ]
  },
  {
   "cell_type": "code",
   "execution_count": null,
   "id": "b7264740",
   "metadata": {},
   "outputs": [],
   "source": [
    "df_s = pd.read_csv('EdStatsSeries.csv')"
   ]
  },
  {
   "cell_type": "code",
   "execution_count": null,
   "id": "bcb8b981",
   "metadata": {},
   "outputs": [],
   "source": [
    "df_s.info()"
   ]
  },
  {
   "cell_type": "code",
   "execution_count": null,
   "id": "5d5e1ab7",
   "metadata": {},
   "outputs": [],
   "source": [
    "df_s.head()"
   ]
  },
  {
   "cell_type": "markdown",
   "id": "b85e2bf5",
   "metadata": {},
   "source": [
    "Ce DataFrame contient 3665 lignes et 21 colonnes. Les colonnes comprennent des informations telles que le code de la série, le sujet, le nom et la définition de l'indicateur, la périodicité, la source des données, etc. Ce DataFrame contient des données sur des indicateurs d'éducation provenant de diverses sources. Cependant, il y a plusieurs colonnes dans lesquelles les données manquent. Par exemple, la colonne \"Unit of measure\" ne contient aucune donnée, et les colonnes \"Notes from original source\", \"Other web links\", \"Related indicators\" et \"License Type\" sont complètement vides. En outre, il y a peu de données dans les colonnes \"Periodicity\", \"Base Period\", \"Other notes\", \"Aggregation method\", \"Limitations and exceptions\", \"Statistical concept and methodology\" et \"Development relevance\"."
   ]
  },
  {
   "cell_type": "code",
   "execution_count": null,
   "id": "1c08f182",
   "metadata": {},
   "outputs": [],
   "source": [
    "#Affiche un diagramme à barres qui montre la proportion de valeurs manquantes\n",
    "#dans chaque colonne du dataframe df_s.\n",
    "msno.bar(df_s)"
   ]
  },
  {
   "cell_type": "markdown",
   "id": "07139e85",
   "metadata": {},
   "source": [
    "La boucle for parcourt toutes les colonnes du dataframe et supprime les colonnes qui ont plus de la moitié de leurs données manquantes."
   ]
  },
  {
   "cell_type": "code",
   "execution_count": null,
   "id": "dd544ba3",
   "metadata": {},
   "outputs": [],
   "source": [
    "# Boucle sur toutes les colonnes\n",
    "for col in df_s.columns:\n",
    "    # Vérifier si la colonne a des données manquantes\n",
    "    if df_s[col].isnull().sum() > 0:\n",
    "        # Vérifier si la moitié des données sont manquantes\n",
    "        if df_s[col].isnull().sum() > (len(df_s[col]) / 2):\n",
    "            # Supprimer la colonne\n",
    "            df_s.drop(col, axis=1, inplace=True)\n",
    "\n",
    "# Afficher les informations sur les colonnes après la suppression\n",
    "print(df_s.info())"
   ]
  },
  {
   "cell_type": "markdown",
   "id": "5ad8bd8c",
   "metadata": {},
   "source": [
    "msno.matrix(df_s) affiche un diagramme de matrice qui montre la répartition des données manquantes dans chaque colonne du dataframe df_s."
   ]
  },
  {
   "cell_type": "code",
   "execution_count": null,
   "id": "2551e7c0",
   "metadata": {},
   "outputs": [],
   "source": [
    "msno.matrix(df_s)"
   ]
  },
  {
   "cell_type": "code",
   "execution_count": null,
   "id": "a8456b6d",
   "metadata": {},
   "outputs": [],
   "source": [
    "display(df_s.head())"
   ]
  },
  {
   "cell_type": "code",
   "execution_count": null,
   "id": "aa1bd71d",
   "metadata": {},
   "outputs": [],
   "source": [
    "if (df_s['Short definition'] != df_s['Long definition']).any():\n",
    "#vérifie si les colonnes \"Short definition\" et \"Long definition\" ont des différences de contenu entre elles.\n",
    "    print('There is a difference between the two columns')\n",
    "else:\n",
    "    print('The two columns are identical')"
   ]
  },
  {
   "cell_type": "code",
   "execution_count": null,
   "id": "4168500a",
   "metadata": {},
   "outputs": [],
   "source": [
    "#for index, row in df_s.iterrows(): boucle à travers les lignes du dataframe df_s et compare le contenu de la colonne\n",
    "#\"Short definition\" avec celui de la colonne \"Long definition\". \n",
    "#Si les deux colonnes ne correspondent pas, la fonction difflib est utilisée pour afficher les différences.\n",
    "for index, row in df_s.iterrows():\n",
    "    text1 = row['Short definition']\n",
    "    text2 = row['Long definition']\n",
    "    if isinstance(text1, float):\n",
    "        text1 = str(text1)\n",
    "    if isinstance(text2, float):\n",
    "        text2 = str(text2)\n",
    "    print(f\"Differences in row {index}:\")\n",
    "    for line in difflib.unified_diff(text1.splitlines(), text2.splitlines()):\n",
    "        print(line)"
   ]
  },
  {
   "cell_type": "code",
   "execution_count": null,
   "id": "0f9f6a50",
   "metadata": {},
   "outputs": [],
   "source": [
    "df_s['Match'] = (df_s['Short definition'] == df_s['Long definition'])\n",
    "#crée une nouvelle colonne dans le dataframe df_s qui vérifie si les valeurs\n",
    "#dans les colonnes \"Short definition\" et \"Long definition\" correspondent.\n",
    "# Create the bar plot\n",
    "counts = df_s['Match'].value_counts()\n",
    "\n",
    "#Le code suivant crée un diagramme à barres \n",
    "#qui montre la proportion de valeurs \"True\" et \"False\" dans la colonne \"Match\"\n",
    "plt.bar(counts.index.astype(str), counts.values)\n",
    "\n",
    "plt.xlabel('Values')\n",
    "plt.ylabel('Count')\n",
    "plt.title('Boolean Column Plot')\n",
    "plt.show()"
   ]
  },
  {
   "cell_type": "code",
   "execution_count": null,
   "id": "7ce8aa26",
   "metadata": {},
   "outputs": [],
   "source": [
    "#La colonne \"Short definition\" est ensuite supprimée du dataframe df_s.\n",
    "df_s.drop('Short definition',axis=1, inplace=True)"
   ]
  },
  {
   "cell_type": "code",
   "execution_count": null,
   "id": "5a0ea5a4",
   "metadata": {},
   "outputs": [],
   "source": [
    "display(df_s['Topic'].unique())\n"
   ]
  },
  {
   "cell_type": "code",
   "execution_count": null,
   "id": "7af7b5e0",
   "metadata": {},
   "outputs": [],
   "source": [
    "df_s['Topic'].nunique()"
   ]
  },
  {
   "cell_type": "markdown",
   "id": "4716c0f8",
   "metadata": {},
   "source": [
    "La colonne 'Topic' contient les indexes de catégories pour les 3665 indicateurs utilisés dans le premier jeu de données. Ces catégories peuvent être utilisées pour catégoriser les indicateurs selon les noms de thèmes sélectionnés. Il y a 37 catégories uniques au total."
   ]
  },
  {
   "cell_type": "markdown",
   "id": "8ee853ac",
   "metadata": {},
   "source": [
    "<a id='sec:JeuxDeDonneesUtilisesPourLetude'></a>\n",
    "## Jeux de données utilisés pour l'étude"
   ]
  },
  {
   "cell_type": "markdown",
   "id": "99950885",
   "metadata": {},
   "source": [
    "J'ai choisi le premier jeu de données \"EdStats Data\" car il fournit des informations plus détaillées sur chaque indicateur pour plusieurs années pour chaque pays. Les autres jeux de données contiennent principalement des informations supplémentaires telles que des notes de bas de page et des descriptions liées au contexte du premier jeu de données principal. Par conséquent, il n'est pas vraiment nécessaire de les utiliser pour évaluer le potentiel de pays et de clients pour la stratégie de l'entreprise EdTech."
   ]
  },
  {
   "cell_type": "markdown",
   "id": "be0e14fd",
   "metadata": {},
   "source": [
    "<a id='subsec:Suppressiondesgroupesdecategoriesetderegionsdujeudedonnees'></a>\n",
    "### Suppression des groupes de catégories et de régions du jeu de données"
   ]
  },
  {
   "cell_type": "markdown",
   "id": "04d2aae5",
   "metadata": {},
   "source": [
    "L'objectif de cette étape était de nettoyer la colonne 'Country Name' en supprimant les noms de catégories et de régions. J'ai utilisé une autre source de données pour créer un nouveau DataFrame avec les noms de pays restants, afin de garantir la précision de nos analyses et d'exclure les informations pouvant biaiser les résultats."
   ]
  },
  {
   "cell_type": "code",
   "execution_count": null,
   "id": "73847dda",
   "metadata": {},
   "outputs": [],
   "source": [
    "# Trouver les codes de pays qui ne sont pas dans df_cs\n",
    "\n",
    "Diff_Country = list(set(df['Country Code'].unique()) - set(df_cs['CountryCode'].unique()))"
   ]
  },
  {
   "cell_type": "code",
   "execution_count": null,
   "id": "77c6ca2d",
   "metadata": {},
   "outputs": [],
   "source": [
    "# Fonction pour trouver le nom du pays à partir de son code\n",
    "\n",
    "def findlong(a):\n",
    "    return df[df['Country Code']==a]['Country Name'].unique()"
   ]
  },
  {
   "cell_type": "code",
   "execution_count": null,
   "id": "a3ef80c9",
   "metadata": {},
   "outputs": [],
   "source": [
    "# Récupération de tous les noms de pays pour chaque code de pays qui ne figure pas dans df_cs\n",
    "\n",
    "CategoryCountry = []\n",
    "for i in range(len(Diff_Country)):\n",
    "    CategoryCountry.extend(findlong(Diff_Country[i]))"
   ]
  },
  {
   "cell_type": "code",
   "execution_count": null,
   "id": "6925852e",
   "metadata": {},
   "outputs": [],
   "source": [
    "display(CategoryCountry)"
   ]
  },
  {
   "cell_type": "code",
   "execution_count": null,
   "id": "1c18daa9",
   "metadata": {},
   "outputs": [],
   "source": [
    "# Liste de pays à supprimer de la liste de catégories\n",
    "\n",
    "remove_list =['Curacao', 'Nauru', 'St. Martin (French part)','Sint Maarten (Dutch part)',\n",
    "              'British Virgin Islands', 'South Sudan']\n",
    "# Suppression des pays de la liste de catégories\n",
    "\n",
    "CategoryCountry= [x for x in CategoryCountry if x not in remove_list]\n"
   ]
  },
  {
   "cell_type": "code",
   "execution_count": null,
   "id": "ecba0198",
   "metadata": {},
   "outputs": [],
   "source": [
    "display(CategoryCountry)"
   ]
  },
  {
   "cell_type": "code",
   "execution_count": null,
   "id": "8f407189",
   "metadata": {},
   "outputs": [],
   "source": [
    "# Filtrer df pour inclure uniquement les pays de la liste de catégories\n",
    "df_category = df_filtered[df_filtered['Country Name'].isin(CategoryCountry)]\n",
    "# Filtrer df_rest pour exclure les pays de la liste de catégories\n",
    "df_filtered = df_filtered[~df_filtered['Country Name'].isin(CategoryCountry)]\n",
    "    "
   ]
  },
  {
   "cell_type": "code",
   "execution_count": null,
   "id": "d4529c9b",
   "metadata": {},
   "outputs": [],
   "source": [
    "# Nombre de pays uniques dans la colonne 'Country Name' de df_filtered après la suppression\n",
    "# des pays de la liste de catégories\n",
    "df_filtered['Country Name'].nunique()"
   ]
  },
  {
   "cell_type": "markdown",
   "id": "58f71551",
   "metadata": {},
   "source": [
    "<a id='subsec:VisualisationduPIBsurlacartedumonde'></a>\n",
    "### Visualisation du PIB sur la carte du monde"
   ]
  },
  {
   "cell_type": "markdown",
   "id": "94f8318b",
   "metadata": {},
   "source": [
    "Ce code trace une carte choroplèthe représentant le PIB en dollars américains pour chaque pays en 2010. La carte utilise une échelle de couleurs pour représenter le PIB, allant des couleurs les plus claires pour les pays avec les PIB les plus bas aux couleurs les plus foncées pour les pays avec les PIB les plus élevés. La carte est projetée avec une projection équirectangulaire."
   ]
  },
  {
   "cell_type": "code",
   "execution_count": null,
   "id": "dca31082",
   "metadata": {},
   "outputs": [],
   "source": [
    "dataPlot = dict(\n",
    "            type = 'choropleth',\n",
    "            colorscale = 'Viridis',\n",
    "            reversescale = True,\n",
    "            locations = df_filtered['Country Name'].unique().tolist(),\n",
    "            locationmode = \"country names\",\n",
    "            z = df_filtered[df_filtered['Indicator Name']=='GDP, PPP (constant 2011 international $)']['2010'],\n",
    "            text = df_filtered['Country Name'].unique().tolist(),\n",
    "            marker = dict(line = dict(color = 'rgb(255,255,255)',width = 1)),\n",
    "            colorbar = {'title' : 'GDP US'},\n",
    "      ) "
   ]
  },
  {
   "cell_type": "code",
   "execution_count": null,
   "id": "73f2881e",
   "metadata": {},
   "outputs": [],
   "source": [
    "layout = dict(\n",
    "    title = '2010 Global GDP',\n",
    "    geo = dict(\n",
    "        showframe = False,\n",
    "        projection={'type':'equirectangular'}\n",
    "    )\n",
    ")"
   ]
  },
  {
   "cell_type": "code",
   "execution_count": null,
   "id": "995ec75b",
   "metadata": {},
   "outputs": [],
   "source": [
    "choromap = go.Figure(data = [dataPlot],layout = layout)\n",
    "iplot(choromap)"
   ]
  },
  {
   "cell_type": "markdown",
   "id": "d2349cbf",
   "metadata": {},
   "source": [
    "<a id='subsec:Nettoyagedesdonneesenfonctiondelapopulationdespays'></a>\n",
    "### Nettoyage des données en fonction de la population des pays"
   ]
  },
  {
   "cell_type": "markdown",
   "id": "6c5b9d95",
   "metadata": {},
   "source": [
    "Cette analyse a pour but de sélectionner les 50 pays les moins peuplés en 2010 et de les comparer avec les autres pays en termes de population. L'année 2010 a été choisie car elle contient le plus grand nombre de données et donne des résultats plus précis par rapport aux autres années."
   ]
  },
  {
   "cell_type": "code",
   "execution_count": null,
   "id": "c47f27ce",
   "metadata": {},
   "outputs": [],
   "source": [
    "# Sélection des données de population totale\n",
    "df_population = df_filtered[df_filtered['Indicator Name']=='Population, total']"
   ]
  },
  {
   "cell_type": "code",
   "execution_count": null,
   "id": "b5f7caf7",
   "metadata": {},
   "outputs": [],
   "source": [
    "# Sélection des données de 2010\n",
    "\n",
    "df_2010 = df_population[['Country Name', '2010']]\n"
   ]
  },
  {
   "cell_type": "code",
   "execution_count": null,
   "id": "0e1aeb22",
   "metadata": {},
   "outputs": [],
   "source": [
    "# Somme des données de population pour chaque pays en 2010\n",
    "\n",
    "df_grouped2010 = df_2010.groupby('Country Name').sum()\n"
   ]
  },
  {
   "cell_type": "code",
   "execution_count": null,
   "id": "4d884bd0",
   "metadata": {},
   "outputs": [],
   "source": [
    "# Sélection des 50 pays les moins peuplés en 2010\n",
    "\n",
    "small_50_countries = df_grouped2010.sort_values(by='2010', ascending=True).head(50)\n"
   ]
  },
  {
   "cell_type": "code",
   "execution_count": null,
   "id": "2c94343d",
   "metadata": {},
   "outputs": [],
   "source": [
    "# Affichage d'un graphique scatter représentant la population de ces 50 pays en 2010\n",
    "\n",
    "small_50_countries.iplot(kind='scatter')"
   ]
  },
  {
   "cell_type": "markdown",
   "id": "5d49005f",
   "metadata": {},
   "source": [
    "Enfin, j'ai créé un nouveau dataframe excluant ces 50 pays pour une utilisation ultérieure."
   ]
  },
  {
   "cell_type": "markdown",
   "id": "69e21f16",
   "metadata": {},
   "source": [
    "J'ai supprimé les pays les moins peuplés de mon analyse en suivant la stratégie du projet EdStat, qui vise à se concentrer sur les pays les plus peuplés et les plus importants en termes de développement économique et social. Cela permet de fournir une analyse plus pertinente et plus précise en se concentrant sur les pays qui ont le plus d'impact sur le développement global."
   ]
  },
  {
   "cell_type": "code",
   "execution_count": null,
   "id": "b27a74b5",
   "metadata": {},
   "outputs": [],
   "source": [
    "# Suppression des pays les moins peuplés de la dataframe originale\n",
    "# df_filtered \n",
    "df_filtered= df_filtered[~df_filtered['Country Name'].isin(small_50_countries.index.tolist())]\n",
    "    "
   ]
  },
  {
   "cell_type": "code",
   "execution_count": null,
   "id": "c84ab955",
   "metadata": {},
   "outputs": [],
   "source": [
    "# Nombre de pays uniques dans la colonne 'Country Name' de df_rest\n",
    "\n",
    "df_filtered['Country Name'].nunique()"
   ]
  },
  {
   "cell_type": "markdown",
   "id": "1e9e02a2",
   "metadata": {},
   "source": [
    "<a id='subsec:Nettoyagedesdonneesenfonctiondelapopulationdespays'></a>\n",
    "### Nettoyage des données en fonction de la valeur du PIB des pays"
   ]
  },
  {
   "cell_type": "markdown",
   "id": "6e4799f7",
   "metadata": {},
   "source": [
    "J'ai choisi l'indicateur 'GDP, PPP (constant 2011 international $)' car il mesure le produit intérieur brut d'un pays en prenant en compte le pouvoir d'achat de sa monnaie, ce qui permet de comparer plus précisément le niveau de richesse entre différents pays. De plus, cet indicateur est ajusté pour l'inflation et les variations de taux de change, ce qui en fait un outil de mesure fiable pour les comparaisons à long terme."
   ]
  },
  {
   "cell_type": "code",
   "execution_count": null,
   "id": "36bae67d",
   "metadata": {},
   "outputs": [],
   "source": [
    "#Crée un nouveau dataframe df_filtered_GDP qui contient uniquement les valeurs pour\n",
    "#l'indicateur \"GDP, PPP (constant 2011 international $)\". Il est indexé par le nom du pays.\n",
    "df_filtered_GDP = df_filtered[df_filtered['Indicator Name']=='GDP, PPP (constant 2011 international $)']\\\n",
    "                                .set_index('Country Name')"
   ]
  },
  {
   "cell_type": "code",
   "execution_count": null,
   "id": "97d5f292",
   "metadata": {},
   "outputs": [],
   "source": [
    "#Tracer un graphique en barres montrant les 50 pays avec le plus petit PIB en 2010.\n",
    "df_filtered_GDP['2010'].sort_values(ascending=True).head(50).iplot(kind='bar')"
   ]
  },
  {
   "cell_type": "code",
   "execution_count": null,
   "id": "88eea693",
   "metadata": {},
   "outputs": [],
   "source": [
    "#Crée une liste de pays à exclure du dataframe \n",
    "#d'origine en raison de valeurs manquantes pour l'indicateur de PIB en 2010.\n",
    "rem_country_list =[df_filtered_GDP[df_filtered_GDP['2010'].isnull()==True].index.tolist() +\n",
    "                           df_filtered_GDP['2010'].sort_values(ascending=True).head(46).index.tolist()]"
   ]
  },
  {
   "cell_type": "code",
   "execution_count": null,
   "id": "54248dfc",
   "metadata": {},
   "outputs": [],
   "source": [
    "rem_country_list[0]"
   ]
  },
  {
   "cell_type": "code",
   "execution_count": null,
   "id": "c3a15b24",
   "metadata": {},
   "outputs": [],
   "source": [
    "#Crée un nouveau dataframe df_filtered qui exclut les pays de la liste des pays à exclure.\n",
    "df_filtered = df_filtered[~df_filtered['Country Name'].isin(rem_country_list[0])]"
   ]
  },
  {
   "cell_type": "code",
   "execution_count": null,
   "id": "661e5492",
   "metadata": {},
   "outputs": [],
   "source": [
    "#Affiche le nombre de pays uniques dans le nouveau dataframe.\n",
    "df_filtered['Country Name'].nunique()"
   ]
  },
  {
   "cell_type": "code",
   "execution_count": null,
   "id": "e71d3b69",
   "metadata": {},
   "outputs": [],
   "source": [
    "#Affiche une liste des noms de tous les pays présents dans le nouveau dataframe.\n",
    "display(df_filtered['Country Name'].unique().tolist())"
   ]
  },
  {
   "cell_type": "markdown",
   "id": "ff934b61",
   "metadata": {},
   "source": [
    "<a id='subsec:NettoyagedesdonneesenfonctiondesutilisateursdInternetpour100personnespourchaquepays'></a>\n",
    "### Nettoyage des données en fonction des utilisateurs d'Internet pour 100 personnes pour chaque pays"
   ]
  },
  {
   "cell_type": "code",
   "execution_count": null,
   "id": "8ae8dccf",
   "metadata": {},
   "outputs": [],
   "source": [
    "# Sélectionner les données sur l'utilisation d'Internet et les mettre en index par pays\n",
    "df_filtered_Internet = df_filtered[df_filtered['Indicator Name']=='Internet users (per 100 people)']\\\n",
    "                                                .set_index('Country Name')"
   ]
  },
  {
   "cell_type": "code",
   "execution_count": null,
   "id": "c5f874dc",
   "metadata": {},
   "outputs": [],
   "source": [
    "# Trouver les pays où il manque des données pour l'année 2010\n",
    "df_filtered_Internet[df_filtered_Internet['2010'].isnull()==True].index.tolist()"
   ]
  },
  {
   "cell_type": "code",
   "execution_count": null,
   "id": "bc717d70",
   "metadata": {},
   "outputs": [],
   "source": [
    "# Créer un graphique de la matrice de corrélation pour les données sur l'utilisation d'Internet\n",
    "display(msno.matrix(df_filtered_Internet))"
   ]
  },
  {
   "cell_type": "code",
   "execution_count": null,
   "id": "845e25ed",
   "metadata": {},
   "outputs": [],
   "source": [
    "#Affiche une matrice de visualisation de données manquantes pour le dataframe df_filtered_Internet à partir de 1997.\n",
    "display(msno.matrix(df_filtered_Internet.iloc[:, df_filtered_Internet.columns.get_loc('1997'):]))"
   ]
  },
  {
   "cell_type": "code",
   "execution_count": null,
   "id": "e3c7509d",
   "metadata": {},
   "outputs": [],
   "source": [
    "# Sélectionner les données sur l'utilisation d'Internet à partir de l'année 1997\n",
    "df_filtered_Internet=df_filtered_Internet.iloc[:, df_filtered_Internet.columns.get_loc('1997'):]"
   ]
  },
  {
   "cell_type": "code",
   "execution_count": null,
   "id": "fcd544bf",
   "metadata": {},
   "outputs": [],
   "source": [
    "# Afficher des informations sur le DataFrame\n",
    "df_filtered_Internet.info()"
   ]
  },
  {
   "cell_type": "code",
   "execution_count": null,
   "id": "0f401025",
   "metadata": {},
   "outputs": [],
   "source": [
    "# Ajouter des colonnes pour les années 2017 à 2030, avec des valeurs NaN\n",
    "for year in range(2017, 2031):\n",
    "    df_filtered_Internet[str(year)] = np.nan"
   ]
  },
  {
   "cell_type": "code",
   "execution_count": null,
   "id": "c8157c76",
   "metadata": {},
   "outputs": [],
   "source": [
    "df_filtered_Internet.info()"
   ]
  },
  {
   "cell_type": "code",
   "execution_count": null,
   "id": "d5337ec3",
   "metadata": {},
   "outputs": [],
   "source": [
    "# Remplacer les valeurs manquantes pour chaque année (2017-2030) en se basant sur la tendance des données précédentes\n",
    "for col in df_filtered_Internet.columns:\n",
    "    if int(col) >= 2017:\n",
    "        for idx, row in df_filtered_Internet.iterrows():\n",
    "            # Obtenir les 8 données précédentes pour cette ligne\n",
    "            prev_8 = row[str(int(col)-8):str(int(col))]\n",
    "\n",
    "            # Calculer la différence entre chaque donnée et la précédente\n",
    "            diffs = prev_8.diff()\n",
    "\n",
    "            # Vérifier si la tendance est à la hausse ou à la baisse\n",
    "            if diffs.mean() > 0:\n",
    "                new_val = row[str(int(col)-1)] + diffs.mean()\n",
    "            else:\n",
    "                new_val = row[str(int(col)-1)] - diffs.mean()\n",
    "\n",
    "            # Limiter la valeur à 99 si nécessaire\n",
    "            if new_val > 99.99:\n",
    "                new_val = 99.99\n",
    "            elif new_val < 0:\n",
    "                new_val = 0\n",
    "\n",
    "            # Définir la nouvelle valeur\n",
    "            df_filtered_Internet.at[idx, col] = new_val\n"
   ]
  },
  {
   "cell_type": "code",
   "execution_count": null,
   "id": "653a110f",
   "metadata": {},
   "outputs": [],
   "source": [
    "# Trouver les pays où moins de 50% de la population utilise Internet en 2023\n",
    "low_user_Internet_country=df_filtered_Internet[~(df_filtered_Internet['2023'] >= 50)].sort_values(by='2023').index.tolist()"
   ]
  },
  {
   "cell_type": "code",
   "execution_count": null,
   "id": "9f13af72",
   "metadata": {},
   "outputs": [],
   "source": [
    "# Afficher la liste des pays concernés et le nombre de pays\n",
    "display(low_user_Internet_country,  len(low_user_Internet_country))"
   ]
  },
  {
   "cell_type": "code",
   "execution_count": null,
   "id": "be2dbde5",
   "metadata": {},
   "outputs": [],
   "source": [
    "# Créer une figure avec des sous-graphiques pour les 24 premiers pays de la liste des pays\n",
    "# où l'utilisation d'Internet est faible\n",
    "fig\n",
    "fig, axs = plt.subplots(6, 4, figsize=(30, 30))\n",
    "\n",
    "# Aplatir le tableau de sous-graphiques pour faciliter l'itération\n",
    "axs = axs.flatten()\n",
    "\n",
    "# Boucler sur les noms d'index et tracer chaque graphique\n",
    "for i, index_name in enumerate(low_user_Internet_country):\n",
    "    # Obtenir les données pour la ligne d'index\n",
    "    index_data = df_filtered_Internet.loc[index_name]\n",
    "    \n",
    "    # Tracer les données sur le sous-graphique correspondant\n",
    "    axs[i].plot(index_data.index,index_data.values)\n",
    "    axs[i].set_title(index_name, fontsize=25)\n",
    "    axs[i].set_xlabel('Year', fontsize=20)\n",
    "    axs[i].set_xticks(index_data.index[::3])\n",
    "\n",
    "for ax in axs:\n",
    "    ax.set_xticks(ax.get_xticks())\n",
    "    ax.set_xticklabels(ax.get_xticklabels(), rotation=45, fontsize=14, fontweight='bold')\n",
    "    ax.set_yticklabels(ax.get_yticklabels(), fontsize=14, fontweight='bold')\n",
    "\n",
    "# Add a suptitle to the figure\n",
    "fig.suptitle('Tracer les données pour les 24 premiers pays avec faible utilisation Internet',fontsize=30)\n",
    "\n",
    "plt.subplots_adjust(hspace=0.5)\n",
    "\n",
    "# Display the figure\n",
    "plt.show()"
   ]
  },
  {
   "cell_type": "markdown",
   "id": "145816e7",
   "metadata": {},
   "source": [
    "Finalement, je supprime les pays où l'utilisation d'Internet est faible du dataframe initial."
   ]
  },
  {
   "cell_type": "code",
   "execution_count": null,
   "id": "a41d7582",
   "metadata": {},
   "outputs": [],
   "source": [
    "\n",
    "df_filtered = df_filtered[~df_filtered['Country Name'].isin(low_user_Internet_country)]\n"
   ]
  },
  {
   "cell_type": "markdown",
   "id": "1cf17c1e",
   "metadata": {},
   "source": [
    "<a id='subsec:Analysedesdonneesavecplusieursnomsdindicateursconsideres'></a>\n",
    "### Analyse des données avec plusieurs noms d'indicateurs considérés"
   ]
  },
  {
   "cell_type": "markdown",
   "id": "dceaacae",
   "metadata": {},
   "source": [
    "Je viens de tracer trois graphiques en barres dans une figure à l'aide de la bibliothèque Plotly. Ces graphiques représentent les 20 pays ayant les valeurs les plus élevées pour trois indicateurs différents : la population de moins de 14 ans, le PIB en parité de pouvoir d'achat et le nombre d'utilisateurs d'Internet pour 100 personnes."
   ]
  },
  {
   "cell_type": "code",
   "execution_count": null,
   "id": "3fce1646",
   "metadata": {},
   "outputs": [],
   "source": [
    "\n",
    "\n",
    "fig = make_subplots(rows=3, cols=1, subplot_titles=('Population, ages 0-14, total', \n",
    "                                                    'GDP, PPP (constant 2011 international $)', \n",
    "                                                    'Internet users (per 100 people)'))\n",
    "\n",
    "fig.add_trace(go.Bar(y=df_filtered[df_filtered['Indicator Name'] == 'Population, ages 0-14, total']\n",
    "                      .set_index('Country Name')['2016'].sort_values(ascending=False)[:20].values, \n",
    "                     x=df_filtered[df_filtered['Indicator Name'] == 'Population, ages 0-14, total']\n",
    "                      .set_index('Country Name')['2016'].sort_values(ascending=False)[:20].index,showlegend=False, \n",
    "                     orientation='v'), row=1, col=1)\n",
    "\n",
    "fig.add_trace(go.Bar(y=df_filtered[df_filtered['Indicator Name'] == 'GDP, PPP (constant 2011 international $)']\n",
    "                      .set_index('Country Name')['2016'].sort_values(ascending=False)[:20].values, \n",
    "                     x=df_filtered[df_filtered['Indicator Name'] == 'GDP, PPP (constant 2011 international $)']\n",
    "                      .set_index('Country Name')['2016'].sort_values(ascending=False)[:20].index,showlegend=False, \n",
    "                     orientation='v'), row=2, col=1)\n",
    "\n",
    "fig.add_trace(go.Bar(y=df_filtered[df_filtered['Indicator Name'] == 'Internet users (per 100 people)']\n",
    "                      .set_index('Country Name')['2016'].sort_values(ascending=False)[:20].values, \n",
    "                     x=df_filtered[df_filtered['Indicator Name'] == 'Internet users (per 100 people)']\n",
    "                      .set_index('Country Name')['2016'].sort_values(ascending=False)[:20].index,showlegend=False, \n",
    "                     orientation='v'), row=3, col=1)\n",
    "\n",
    "fig.update_layout(height=1000, width=1000)\n",
    "for i in range(1, 4):\n",
    "    fig.update_layout({'xaxis%d' % i: {'tickangle': -45}})\n",
    "\n",
    "fig.show()\n",
    "\n"
   ]
  },
  {
   "cell_type": "markdown",
   "id": "d8437111",
   "metadata": {},
   "source": [
    " Bien qu'il y ait quelques similitudes entre les noms de pays pour les 20 premières valeurs de chaque indicateur, les noms de pays pour chaque indicateur semblent divers et il n'est pas facile de tirer une conclusion sur le meilleur candidat pour l'entreprise EdTech. Par exemple, l'Inde et la Chine présentent un bon profil en termes de jeunesse de la population et de durabilité économique, mais pas en termes de profil d'utilisation d'Internet.\n",
    "\n",
    "\n",
    "\n"
   ]
  },
  {
   "cell_type": "markdown",
   "id": "aa34be63",
   "metadata": {},
   "source": [
    "<a id='sec:AnalysePourRepondreaLaProblematique'></a>\n",
    "# Analyse pour répondre à la problématique\n"
   ]
  },
  {
   "cell_type": "markdown",
   "id": "3041a35a",
   "metadata": {},
   "source": [
    "Dans cette analyse, j'ai cherché à identifier les caractéristiques des clients potentiels en examinant trois indicateurs clés : la population âgée de 0 à 14 ans, PIB, PPA (constants de 2011 dollars internationaux) et Utilisateurs d'Internet (pour 100 personnes)'. J'ai choisi de représenter les données sous forme de graphiques à barres, en sélectionnant les 20 pays avec les valeurs les plus élevées pour chaque indicateur. Bien que les pays avec les valeurs les plus élevées pour chaque indicateur soient différents, cela nous montre les différences et les disparités entre les pays en termes de profil de client potentiel. Par exemple, un pays peut avoir un PIB élevé mais un faible taux d'utilisation d'Internet, ce qui peut avoir un impact sur la stratégie marketing de l'entreprise."
   ]
  },
  {
   "cell_type": "code",
   "execution_count": null,
   "id": "6ff26639",
   "metadata": {},
   "outputs": [],
   "source": [
    "# Définir une liste de noms d'indicateurs à boucler\n",
    "indicator_names = [\n",
    "    'Internet users (per 100 people)',\n",
    "    'Population, ages 0-14, total',\n",
    "    'GDP, PPP (constant 2011 international $)',\n",
    "]\n",
    "#Créer un dictionnaire vide pour stocker les 65 premiers pays pour chaque indicateur\n",
    "top_countries = {}\n",
    "\n",
    "#Boucler sur les noms d'indicateurs\n",
    "for indicator_name in indicator_names:\n",
    "# Charger les données et filtrer pour l'indicateur en cours\n",
    "    # Calculer la valeur moyenne pour chaque pays sur une plage d'années\n",
    "    mean_values = df_filtered[df_filtered['Indicator Name'] == indicator_name].set_index('Country Name')\\\n",
    "                    .loc[:, '2010':'2015'].mean(axis=1)\n",
    "    \n",
    "    # Suivre les 65 premiers pays pour l'indicateur en cours\n",
    "    top_countries[indicator_name] = mean_values.sort_values(ascending=False)[:65].index.to_list()\n",
    "\n",
    "#Trouver les noms de pays communs qui apparaissent dans les 65 premiers pour tous les indicateurs\n",
    "common_countries = set(top_countries[indicator_names[0]])\n",
    "for indicator_name in indicator_names:\n",
    "    common_countries = common_countries.intersection(top_countries[indicator_name])\n",
    "\n",
    "# Afficher les noms de pays communs\n",
    "print(common_countries, len(common_countries))"
   ]
  },
  {
   "cell_type": "code",
   "execution_count": null,
   "id": "4a7c0061",
   "metadata": {},
   "outputs": [],
   "source": [
    "display(df_filtered['Country Name'].nunique())"
   ]
  },
  {
   "cell_type": "markdown",
   "id": "8e660089",
   "metadata": {},
   "source": [
    "Le code sélectionne les noms de pays pour lesquels nous avons des données pour tous les indicateurs. Ensuite, il crée une figure avec trois sous-graphiques pour chaque indicateur. Ensuite, il crée un graphique à barres pour chaque indicateur, en utilisant les données des pays sélectionnés"
   ]
  },
  {
   "cell_type": "code",
   "execution_count": null,
   "id": "c3543aaa",
   "metadata": {},
   "outputs": [],
   "source": [
    "# Sélectionner les noms des pays pour lesquels on a des données pour tous les indicateurs\n",
    "countries = df_filtered[df_filtered['Indicator Name'] == 'Population, ages 0-14, total'].set_index('Country Name')\\\n",
    "                                        .loc[common_countries]['2015'].sort_values(ascending=False)[:].index.tolist()\n",
    "\n",
    "# Créer la figure avec 3 sous-graphiques pour chaque indicateur\n",
    "fig = make_subplots(rows=3, cols=1, shared_xaxes=False,vertical_spacing=0.2, subplot_titles=(\"Population, ages 0-14, total\",\n",
    "                                                            \"GDP, PPP (constant 2011 international $)\",\n",
    "                                                            \"Internet users (per 100 people)\"))\n",
    "\n",
    "# Pour chaque indicateur, créer un graphique à barres avec les données des pays sélectionnés\n",
    "for i, indicator in enumerate(['Population, ages 0-14, total', 'GDP, PPP (constant 2011 international $)', 'Internet users (per 100 people)']):\n",
    "\n",
    "    # Extraire les données pour l'indicateur et les pays sélectionnés\n",
    "    df_indicator = df_filtered[df_filtered['Indicator Name'] == indicator].set_index('Country Name').loc[countries]\n",
    "    \n",
    "    # Créer une trace de graphique à barres pour les données\n",
    "    trace = go.Bar(x=df_indicator.sort_values(by='2015',ascending=False).index, y=df_indicator['2015'].sort_values(ascending=False), name=indicator)\n",
    "    \n",
    "    # Ajouter la trace au sous-graphique correspondant\n",
    "    fig.add_trace(trace, row=i+1, col=1)\n",
    "\n",
    "# Mettre à jour la mise en page de la figure et afficher la figure\n",
    "fig.update_layout(showlegend=False)\n",
    "for i in range(1, 4):\n",
    "    fig.update_layout({'xaxis%d' % i: {'tickangle': -45}})\n",
    "fig.update_layout(height=1000, width=1000)\n",
    "\n",
    "# fig.show()"
   ]
  },
  {
   "cell_type": "markdown",
   "id": "8fd2f1d7",
   "metadata": {},
   "source": [
    "Voici les 36 pays qui ont été triés en fonction de valeurs élevées pour les trois indicateurs. En ce qui concerne la population jeune et le PIB du pays, **_les États-Unis, le Brésil, le Japon, la Turquie, le Royaume-Uni, la Corée du Sud, l'Arabie saoudite, l'Italie, la France et l'Allemagne_** présentent le meilleur profil. Le Royaume-Uni, le Japon, la Corée et l'Allemagne de cette liste ont de nombreux utilisateurs d'Internet. Cependant, en termes de population, ces pays sont très peuplés. Même si le Brésil et la Turquie montrent moins d'utilisateurs d'Internet, en considérant la population de ces pays, ils pourraient avoir un nombre assez intéressant d'utilisateurs d'Internet. Nous pouvons également négliger la Russie en raison de la guerre en cours entre l'Ukraine et la Russie et de l'embargo économique appliqué par l'Union européenne. Le Venezuela pourrait être négligé en raison de la crise économique en cours. **_Le Canada, l'Espagne, la Pologne, les Pays-Bas, la Malaisie et l'Argentine_** présentent également un profil client solide pour une entreprise EdTech.\n",
    "\n",
    "En ce qui concerne les pays francophones et leur durabilité économique, **_la Belgique, le Maroc et la Suisse_** présentent un profil intéressant."
   ]
  },
  {
   "cell_type": "markdown",
   "id": "4d14f11c",
   "metadata": {},
   "source": [
    "Ici, vous pouvez voir les 10 meilleurs pays pour chaque indicateur et dans la colonne, vous pouvez voir le profil de la liste des meilleurs pays pour un indicateur donné dans les autres noms d'indicateurs. Nous pouvons commenter, par exemple, pour les pays ayant une population très jeune, comment se situe leur économie ou leur nombre d'utilisateurs d'Internet pour 100 habitants."
   ]
  },
  {
   "cell_type": "code",
   "execution_count": null,
   "id": "d5a6ac4a",
   "metadata": {},
   "outputs": [],
   "source": [
    "# Créer une figure de sous-parcelles avec 3 lignes et 3 colonnes, en définissant \n",
    "#les espaces verticaux et horizontaux et en ajoutant des titres de sous-parcelle\n",
    "fig = make_subplots(rows=3, cols=3, vertical_spacing=0.15,horizontal_spacing=0.05,\n",
    "                    subplot_titles=('Population, ages 0-14, total', \n",
    "                                    'Population, ages 0-14, total', \n",
    "                                    'Population, ages 0-14, total', \n",
    "                                    'GDP, PPP (international $)', \n",
    "                                    'GDP, PPP (international $)', \n",
    "                                    'GDP, PPP (international $)', \n",
    "                                    'Internet users (per 100 people)',\n",
    "                                    'Internet users (per 100 people)',\n",
    "                                    'Internet users (per 100 people)'))\n",
    "\n",
    "# Sélectionner les 10 premiers pays pour la variable \"Population, ages 0-14, total\"\n",
    "pop_countries = df_filtered[df_filtered['Indicator Name'] == 'Population, ages 0-14, total']\\\n",
    "                    .set_index('Country Name')['2015'].sort_values(ascending=False)[:10].index.tolist()\n",
    "\n",
    "# Sélectionner les 10 premiers pays pour la variable \"GDP, PPP (constant 2011 international $)\"\n",
    "gdp_countries = df_filtered[df_filtered['Indicator Name'] == 'GDP, PPP (constant 2011 international $)']\\\n",
    "                    .set_index('Country Name')['2015'].sort_values(ascending=False)[:10].index.tolist()\n",
    "\n",
    "# Sélectionner les 10 premiers pays pour la variable \"Internet users (per 100 people)\"\n",
    "internet_countries = df_filtered[df_filtered['Indicator Name'] == 'Internet users (per 100 people)']\\\n",
    "                    .set_index('Country Name')['2015'].sort_values(ascending=False)[:10].index.tolist()\n",
    "\n",
    "# Ajouter des sous-parcelles pour chaque variable\n",
    "fig.add_trace(go.Bar(y=df_filtered[df_filtered['Indicator Name'] == 'Population, ages 0-14, total']\n",
    "                      .set_index('Country Name').loc[pop_countries, '2015'].values, \n",
    "                     x=pop_countries, \n",
    "                     orientation='v'), row=1, col=1)\n",
    "\n",
    "fig.add_trace(go.Bar(y=df_filtered[df_filtered['Indicator Name'] == 'GDP, PPP (constant 2011 international $)']\n",
    "                      .set_index('Country Name').loc[pop_countries, '2015'].values, \n",
    "                     x=pop_countries, \n",
    "                     orientation='v'), row=2, col=1)\n",
    "\n",
    "fig.add_trace(go.Bar(y=df_filtered[df_filtered['Indicator Name'] == 'Internet users (per 100 people)']\n",
    "                      .set_index('Country Name').loc[pop_countries, '2015'].values, \n",
    "                     x=pop_countries, \n",
    "                     orientation='v'), row=3, col=1)\n",
    "\n",
    "fig.add_trace(go.Bar(y=df_filtered[df_filtered['Indicator Name'] == 'Population, ages 0-14, total']\n",
    "                      .set_index('Country Name').loc[gdp_countries, '2015'].values, \n",
    "                     x=gdp_countries, \n",
    "                     orientation='v'), row=1, col=2)\n",
    "\n",
    "fig.add_trace(go.Bar(y=df_filtered[df_filtered['Indicator Name'] == 'GDP, PPP (constant 2011 international $)']\n",
    "                      .set_index('Country Name').loc[gdp_countries, '2015'].values, \n",
    "                     x=gdp_countries, \n",
    "                     orientation='v'), row=2, col=2)\n",
    "\n",
    "fig.add_trace(go.Bar(y=df_filtered[df_filtered['Indicator Name'] == 'Internet users (per 100 people)']\n",
    "                      .set_index('Country Name').loc[gdp_countries, '2015'].values, \n",
    "                     x=gdp_countries, \n",
    "                     orientation='v'), row=3, col=2)\n",
    "\n",
    "\n",
    "fig.add_trace(go.Bar(y=df_filtered[df_filtered['Indicator Name'] == 'Population, ages 0-14, total']\n",
    "                      .set_index('Country Name').loc[internet_countries, '2015'].values, \n",
    "                     x=internet_countries, \n",
    "                     orientation='v'), row=1, col=3)\n",
    "\n",
    "fig.add_trace(go.Bar(y=df_filtered[df_filtered['Indicator Name'] == 'GDP, PPP (constant 2011 international $)']\n",
    "                      .set_index('Country Name').loc[internet_countries, '2015'].values, \n",
    "                     x=internet_countries, \n",
    "                     orientation='v'), row=2, col=3)\n",
    "\n",
    "fig.add_trace(go.Bar(y=df_filtered[df_filtered['Indicator Name'] == 'Internet users (per 100 people)']\n",
    "                      .set_index('Country Name').loc[internet_countries, '2015'].values, \n",
    "                     x=internet_countries, \n",
    "                     orientation='v'), row=3, col=3)\n",
    "\n",
    "\n",
    "fig.update_layout(height=1000, width=1000,showlegend=False)\n",
    "for i in range(1, 10):\n",
    "    fig.update_layout({'xaxis%d' % i: {'tickangle': -45}})\n",
    "\n",
    "fig.show()"
   ]
  },
  {
   "cell_type": "markdown",
   "id": "45dbe302",
   "metadata": {},
   "source": [
    "Dans ce graphique, nous pouvons observer **_l'Inde et la Chine_** et leur population jeune. Même si le nombre d'utilisateurs d'Internet est inférieur à celui des autres pays, en prenant en compte la population totale, ce nombre reste élevé. **_Le Mexique_** présente également un profil intéressant en termes de population et de PIB. Lorsqu'on classe les pays en fonction du nombre d'utilisateurs d'Internet, la Norvège, le Danemark, Bahreïn et le Qatar sont les pays les mieux classés, cependant, leur population jeune et leur PIB sont plus faibles que ceux des autres pays."
   ]
  },
  {
   "cell_type": "code",
   "execution_count": null,
   "id": "c37e8e3d",
   "metadata": {},
   "outputs": [],
   "source": [
    "list_of_chosen_countries =['Argentina', 'Belgium','Brazil',\n",
    " 'Canada','France',\n",
    " 'Germany', 'Italy',\n",
    " 'Japan', 'Korea, Rep.',\n",
    " 'Malaysia',\n",
    " 'Morocco',\n",
    " 'Netherlands',\n",
    " 'Poland', 'Saudi Arabia',\n",
    " 'Spain','Switzerland',\n",
    " 'Turkey', 'United Kingdom',\n",
    " 'United States','India','China','Mexico']\n",
    "print(len(list_of_chosen_countries))"
   ]
  },
  {
   "cell_type": "code",
   "execution_count": null,
   "id": "0075bf31",
   "metadata": {},
   "outputs": [],
   "source": [
    "df[df['Indicator Name'] == 'Wittgenstein Projection: Population age 15-19 in thousands by highest level of educational attainment. Upper Secondary. Total']\\\n",
    "    .set_index('Country Name')\\\n",
    "    .loc[df_filtered['Country Name'].unique().tolist(), '2025'].sort_values(ascending=False)[:30].iplot(kind='bar')\n",
    "#     .loc[:, '2020':'2100'].mean(axis=1)\\\n",
    "#     .sort_values(ascending=False)"
   ]
  },
  {
   "cell_type": "markdown",
   "id": "c86f0287",
   "metadata": {},
   "source": [
    "Sur les 22 pays choisis pour notre étude, 15 pays ont également été projetés comme étant des pays de premier plan en termes de population âgée entre 15 et 19 ans, selon la projection de Wittgenstein. Cela signifie que ces pays ont un grand potentiel en termes de marché pour l'entreprise EdTech, car ils ont une population jeune et en âge de scolarité. "
   ]
  },
  {
   "cell_type": "markdown",
   "id": "58580184",
   "metadata": {},
   "source": [
    "<a id='sec:ConclusionEtPerspectives'></a>\n",
    "# Conclusion et perspective"
   ]
  },
  {
   "cell_type": "markdown",
   "id": "029280c3",
   "metadata": {},
   "source": [
    "Après avoir analysé les données, il est possible de dire que les pays les plus prometteurs pour le développement d'une entreprise EdTech sont les États-Unis, le Brésil, le Japon, la Turquie, le Royaume-Uni, la Corée du Sud, l'Arabie Saoudite, l'Italie, la France et l'Allemagne en raison de leur forte population jeune et de leur soutenabilité économique. Le Royaume-Uni, le Japon, la Corée du Sud et l'Allemagne ont également un nombre important d'utilisateurs d'Internet. Cependant, étant donné la forte population de ces pays, il est possible que les pays comme le Brésil et la Turquie, qui ont un nombre moins élevé d'utilisateurs d'Internet, présentent également un nombre intéressant d'utilisateurs potentiels d'EdTech.\n",
    "\n",
    "D'autre part, il est important de noter que les projections de Wittgenstein indiquent que 15 des 22 pays sélectionnés sont également des pays prometteurs en termes de population âgée entre 15 et 19 ans. Cela souligne davantage le potentiel des pays choisis pour le développement d'une entreprise EdTech.\n",
    "\n",
    "Cependant, il est important de prendre en compte d'autres facteurs tels que la langue, la culture, les lois et les réglementations en vigueur dans chaque pays pour pouvoir élaborer une stratégie commerciale efficace. Les pays tels que la Belgique, le Maroc et la Suisse peuvent également présenter un intérêt en raison de leur population francophone et de leur soutenabilité économique.\n",
    "\n",
    "En conclusion, les États-Unis, le Brésil, le Japon, la Turquie, le Royaume-Uni, la Corée du Sud, l'Arabie Saoudite, l'Italie, la France, l'Allemagne et les autres pays choisis ont un potentiel important pour le développement d'une entreprise EdTech. Cependant, il est important de prendre en compte d'autres facteurs pour élaborer une stratégie commerciale efficace et durable.\n"
   ]
  }
 ],
 "metadata": {
  "kernelspec": {
   "display_name": "Python 3",
   "language": "python",
   "name": "python3"
  },
  "language_info": {
   "codemirror_mode": {
    "name": "ipython",
    "version": 3
   },
   "file_extension": ".py",
   "mimetype": "text/x-python",
   "name": "python",
   "nbconvert_exporter": "python",
   "pygments_lexer": "ipython3",
   "version": "3.8.3"
  }
 },
 "nbformat": 4,
 "nbformat_minor": 5
}
